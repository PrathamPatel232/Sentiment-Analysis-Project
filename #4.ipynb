{
 "cells": [
  {
   "cell_type": "code",
   "execution_count": 13,
   "metadata": {},
   "outputs": [
    {
     "name": "stdout",
     "output_type": "stream",
     "text": [
      "Data collected and saved to scraped_data.csv\n"
     ]
    }
   ],
   "source": [
    "import pandas as pd\n",
    "from bs4 import BeautifulSoup\n",
    "import requests\n",
    "\n",
    "# Scrape example news data\n",
    "url = \"https://example.com/news\"\n",
    "response = requests.get(url)\n",
    "soup = BeautifulSoup(response.text, 'html.parser')\n",
    "\n",
    "# Extract data and save to CSV\n",
    "data = {\"Title\": [], \"Content\": []}\n",
    "for article in soup.find_all('article'):\n",
    "    data[\"Title\"].append(article.find('h1').text)\n",
    "    data[\"Content\"].append(article.find('p').text)\n",
    "\n",
    "df = pd.DataFrame(data)\n",
    "df.to_csv('scraped_data.csv', index=False)\n",
    "print(\"Data collected and saved to scraped_data.csv\")\n"
   ]
  },
  {
   "cell_type": "code",
   "execution_count": 15,
   "metadata": {},
   "outputs": [
    {
     "name": "stdout",
     "output_type": "stream",
     "text": [
      "Sentiment analysis completed successfully.\n",
      "Processed data saved to 'processed_data.csv'.\n"
     ]
    }
   ],
   "source": [
    "from textblob import TextBlob\n",
    "import pandas as pd\n",
    "\n",
    "# Load data\n",
    "try:\n",
    "    df = pd.read_csv('scraped_data.csv')\n",
    "except FileNotFoundError:\n",
    "    print(\"The file 'scraped_data.csv' was not found. Ensure it exists in the correct directory.\")\n",
    "    exit()\n",
    "\n",
    "# Ensure the 'Content' column exists\n",
    "if 'Content' not in df.columns:\n",
    "    print(\"The 'Content' column is missing in the dataset. Please verify the column names.\")\n",
    "    exit()\n",
    "\n",
    "# Remove rows with missing or invalid data in 'Content'\n",
    "df = df.dropna(subset=['Content'])\n",
    "\n",
    "# Sentiment Analysis\n",
    "try:\n",
    "    df['Polarity'] = df['Content'].apply(lambda x: TextBlob(str(x)).sentiment.polarity)\n",
    "    print(\"Sentiment analysis completed successfully.\")\n",
    "except Exception as e:\n",
    "    print(f\"An error occurred during sentiment analysis: {e}\")\n",
    "    exit()\n",
    "\n",
    "# Save the processed data\n",
    "output_file = 'processed_data.csv'\n",
    "try:\n",
    "    df.to_csv(output_file, index=False)\n",
    "    print(f\"Processed data saved to '{output_file}'.\")\n",
    "except Exception as e:\n",
    "    print(f\"An error occurred while saving the data: {e}\")\n"
   ]
  },
  {
   "cell_type": "code",
   "execution_count": 17,
   "metadata": {},
   "outputs": [
    {
     "data": {
      "image/png": "[encoded data removed]",
      "text/plain": [
       "<Figure size 640x480 with 1 Axes>"
      ]
     },
     "metadata": {},
     "output_type": "display_data"
    },
    {
     "name": "stdout",
     "output_type": "stream",
     "text": [
      "No positive content available for word cloud.\n",
      "No negative content available for word cloud.\n"
     ]
    }
   ],
   "source": [
    "import matplotlib.pyplot as plt\n",
    "from wordcloud import WordCloud\n",
    "import pandas as pd\n",
    "\n",
    "# Load processed data\n",
    "df = pd.read_csv('processed_data.csv')\n",
    "\n",
    "# Remove rows with missing or empty Content\n",
    "df = df.dropna(subset=['Content'])\n",
    "df = df[df['Content'].str.strip() != '']\n",
    "\n",
    "# Categorize sentiment\n",
    "def categorize_sentiment(polarity):\n",
    "    if polarity > 0:\n",
    "        return 'Positive'\n",
    "    elif polarity < 0:\n",
    "        return 'Negative'\n",
    "    else:\n",
    "        return 'Neutral'\n",
    "\n",
    "df['Sentiment'] = df['Polarity'].apply(categorize_sentiment)\n",
    "\n",
    "# Pie Chart\n",
    "sentiment_counts = df['Sentiment'].value_counts()\n",
    "plt.pie(sentiment_counts, labels=sentiment_counts.index, autopct='%1.1f%%', startangle=140)\n",
    "plt.title('Sentiment Distribution')\n",
    "plt.show()\n",
    "\n",
    "# Word Cloud\n",
    "positive_text = ' '.join(df[df['Sentiment'] == 'Positive']['Content'])\n",
    "negative_text = ' '.join(df[df['Sentiment'] == 'Negative']['Content'])\n",
    "\n",
    "# Generate Positive Word Cloud\n",
    "if positive_text.strip():  # Check if the text is not empty\n",
    "    positive_wordcloud = WordCloud(width=800, height=400, background_color='white').generate(positive_text)\n",
    "    plt.imshow(positive_wordcloud, interpolation='bilinear')\n",
    "    plt.axis('off')\n",
    "    plt.title('Positive Word Cloud')\n",
    "    plt.show()\n",
    "else:\n",
    "    print(\"No positive content available for word cloud.\")\n",
    "\n",
    "# Generate Negative Word Cloud\n",
    "if negative_text.strip():  # Check if the text is not empty\n",
    "    negative_wordcloud = WordCloud(width=800, height=400, background_color='black').generate(negative_text)\n",
    "    plt.imshow(negative_wordcloud, interpolation='bilinear')\n",
    "    plt.axis('off')\n",
    "    plt.title('Negative Word Cloud')\n",
    "    plt.show()\n",
    "else:\n",
    "    print(\"No negative content available for word cloud.\")\n"
   ]
  },
  {
   "cell_type": "code",
   "execution_count": null,
   "metadata": {},
   "outputs": [],
   "source": []
  }
 ],
 "metadata": {
  "kernelspec": {
   "display_name": "Python 3",
   "language": "python",
   "name": "python3"
  },
  "language_info": {
   "codemirror_mode": {
    "name": "ipython",
    "version": 3
   },
   "file_extension": ".py",
   "mimetype": "text/x-python",
   "name": "python",
   "nbconvert_exporter": "python",
   "pygments_lexer": "ipython3",
   "version": "3.12.3"
  }
 },
 "nbformat": 4,
 "nbformat_minor": 2
}
